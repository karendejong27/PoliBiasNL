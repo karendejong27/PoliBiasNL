{
 "cells": [
  {
   "cell_type": "code",
   "execution_count": null,
   "metadata": {},
   "outputs": [],
   "source": [
    "import pandas as pd\n",
    "from sklearn.decomposition import PCA\n",
    "import matplotlib.pyplot as plt\n",
    "import numpy as np\n",
    "import utils\n",
    "import numpy as np\n",
    "import plotly.graph_objs as go\n",
    "import plotly.subplots as sp\n",
    "import plotly.io as pio"
   ]
  },
  {
   "cell_type": "code",
   "execution_count": null,
   "metadata": {},
   "outputs": [],
   "source": [
    "#import results\n",
    "df_gpt35_id = pd.read_csv('Results/gpt3.5_results_ideology.csv', index_col=0)\n",
    "df_gpt35_en = pd.read_csv('Results/gpt3.5_results_entity.csv',index_col=0)\n",
    "\n",
    "df_gpt4o_id = pd.read_csv('Results/gpt4o_mini_results_ideology.csv',index_col=0)\n",
    "df_gpt4o_en = pd.read_csv('Results/gpt4o_mini_results_entity.csv',index_col=0)\n",
    "\n",
    "df_llama3_id = pd.read_csv('Results/llama3_results_ideology.csv',index_col=0)\n",
    "df_llama3_en = pd.read_csv('Results/llama3_results_entity.csv',index_col=0)\n",
    "\n",
    "df_llama2_id = pd.read_csv('Results/llama2_results_ideology.csv',index_col=0)\n",
    "df_llama2_en = pd.read_csv('Results/llama2_results_entity.csv',index_col=0)\n"
   ]
  },
  {
   "cell_type": "markdown",
   "metadata": {},
   "source": [
    "## Preprocessing"
   ]
  },
  {
   "cell_type": "code",
   "execution_count": null,
   "metadata": {},
   "outputs": [],
   "source": [
    "#postprocess llama output\n",
    "df_llama3_id['llama3_vote'] = df_llama3_id['llama3_vote'].str.lower().str.strip()\n",
    "df_llama2_id['llama2_vote'] = df_llama2_id['llama2_vote'].str.lower().str.strip()\n",
    "\n",
    "#seperate column names based on type logprob, vote \n",
    "vote_columns_gpt35 = [col for col in df_gpt35_en.columns if col.endswith('vote')]\n",
    "voor_lprob_columns_gpt35 = [col for col in df_gpt35_en.columns if col.endswith('voor_lprob')]\n",
    "tegen_lprob_columns_gpt35 = [col for col in df_gpt35_en.columns if col.endswith('tegen_lprob')]\n",
    "\n",
    "vote_columns_gpt4o = [col for col in df_gpt4o_en.columns if col.endswith('vote')]\n",
    "voor_lprob_columns_gpt4o = [col for col in df_gpt4o_en.columns if col.endswith('voor_lprob')]\n",
    "tegen_lprob_columns_gpt4o = [col for col in df_gpt4o_en.columns if col.endswith('tegen_lprob')]\n",
    "\n",
    "vote_columns_llama3 = [col for col in df_llama3_en.columns if col.endswith('vote')]\n",
    "vote_columns_llama2 = [col for col in df_llama2_en.columns if col.endswith('vote')]\n"
   ]
  },
  {
   "cell_type": "code",
   "execution_count": null,
   "metadata": {},
   "outputs": [],
   "source": [
    "#map string votes to numeric value\n",
    "\n",
    "mapping = {'voor': 1, 'tegen': -1}\n",
    "mapping2 = {'voor': 1, 't': -1}\n",
    "\n",
    "df_gpt35_id['gpt-3.5turbo_vote'] = df_gpt35_id['gpt-3.5turbo_vote'].map(mapping)\n",
    "df_gpt4o_id['gpt4o-mini_vote'] = df_gpt4o_id['gpt4o-mini_vote'].map(mapping)\n",
    "\n",
    "df_llama2_id['llama2_vote'] = df_llama2_id['llama2_vote'].map(mapping)\n",
    "df_llama3_id['llama3_vote'] = df_llama3_id['llama3_vote'].map(mapping)\n",
    "\n",
    "\n",
    "for col in vote_columns_gpt35:\n",
    "    df_gpt35_en[col] = df_gpt35_en[col].map(mapping)\n",
    "\n",
    "for col in vote_columns_gpt4o:\n",
    "    df_gpt4o_en[col] = df_gpt4o_en[col].map(mapping)\n",
    "\n",
    "for col in vote_columns_llama3:\n",
    "    df_llama3_en[col] = df_llama3_en[col].str.lower().str.strip()\n",
    "    df_llama3_en[col] = df_llama3_en[col].map(mapping)\n",
    "\n",
    "for col in vote_columns_llama2:\n",
    "    df_llama2_en[col] = df_llama2_en[col].str.lower().str.strip()\n",
    "    df_llama2_en[col] = df_llama2_en[col].map(mapping2)\n",
    "\n",
    "\n",
    "    \n"
   ]
  },
  {
   "cell_type": "code",
   "execution_count": null,
   "metadata": {},
   "outputs": [],
   "source": [
    "#normize logprobs ideology results\n",
    "df_gpt35_id['gpt3.5turbo_normalized'] = utils.normalize_probs(df_gpt35_id['gpt-3.5turbo_voor_lprob'], df_gpt35_id['gpt-3.5turbo_tegen_lprob'], no_log=False)\n",
    "df_gpt4o_id['gpt4o_normalized'] = utils.normalize_probs(df_gpt4o_id['gpt4o-mini_voor_l_prob'], df_gpt4o_id['gpt4o-mini_tegen_lprob'], no_log=False)\n",
    "\n",
    "df_llama2_id['llama2_normalized'] = utils.normalize_probs(df_llama2_id['llama2_voor_prob'], df_llama2_id['llama2_tegen_prob'], no_log=True)\n",
    "df_llama3_id['llama3_normalized']  = utils.normalize_probs(df_llama3_id['llama3_voor_prob'], df_llama3_id['llama3_tegen_prob'], no_log=True)"
   ]
  },
  {
   "cell_type": "code",
   "execution_count": null,
   "metadata": {},
   "outputs": [],
   "source": [
    "#merge the ideology df's for the different models into 1 df\n",
    "df_ideology = df_gpt35_id.merge(df_llama3_id, how='outer')\n",
    "df_ideology = pd.merge(df_ideology, df_gpt4o_id, left_index=True, right_index=True, how='outer')\n",
    "df_ideology = pd.merge(df_ideology, df_llama2_id, left_index=True, right_index=True, how='outer')\n",
    "df_ideology.rename(columns={'gpt-3.5turbo_vote': 'GPT3.5-turbo','llama3_vote':'LLaMA3', 'llama2_vote':'LLaMA2', 'gpt4o-mini_vote': 'GPT4o-mini', 'gpt4o_normalized': 'GPT4o-mini_p','gpt3.5turbo_normalized': 'GPT3.5t_p','llama3_normalized':'LLaMA3_p', 'llama2_normalized':'LLaMA2_p' }, inplace=True)\n",
    "df_ideology.rename(columns={'GroenLinks-PvdA': 'GL-PvdA', }, inplace=True)\n"
   ]
  },
  {
   "cell_type": "markdown",
   "metadata": {},
   "source": [
    "## Ideology"
   ]
  },
  {
   "cell_type": "code",
   "execution_count": null,
   "metadata": {},
   "outputs": [],
   "source": [
    "#plot the political landscape\n",
    "utils.plot_landscape(df_ideology, 'political landscape', models = ['GPT3.5-turbo', 'LLaMA3','LLaMA2', 'GPT4o-mini'])"
   ]
  },
  {
   "cell_type": "code",
   "execution_count": null,
   "metadata": {},
   "outputs": [],
   "source": [
    "#plot violinplots using the probabilty values\n",
    "certainty_vals = df_ideology[['LLaMA3_p', 'LLaMA2_p', 'GPT3.5t_p', 'GPT4o-mini_p']]\n",
    "utils.violinplot(certainty_vals)\n"
   ]
  },
  {
   "cell_type": "code",
   "execution_count": null,
   "metadata": {},
   "outputs": [],
   "source": [
    "columns = ['PVV', 'GL-PvdA', 'VVD', 'NSC', 'D66', 'BBB', 'CDA', 'SP', 'ChristenUnie', 'DENK', 'PvdD', 'SGP', 'FVD', 'Volt', 'JA21']\n",
    "model_columns = ['GPT3.5-turbo', 'LLaMA3', 'LLaMA2', 'GPT4o-mini']\n",
    "\n",
    "# Initialize a DataFrame to store the agreement results\n",
    "agreement_df = pd.DataFrame(index=columns, columns=model_columns)\n",
    "\n",
    "# Calculate agreement for each pair\n",
    "for col in columns:\n",
    "    for model_col in model_columns:\n",
    "        # Calculate agreement as the percentage of matching values\n",
    "        agreement = np.round((df_ideology[col] == df_ideology[model_col]).mean() * 100,2)\n",
    "        agreement_df.loc[col, model_col] = agreement\n",
    "agreement_df"
   ]
  },
  {
   "cell_type": "code",
   "execution_count": null,
   "metadata": {},
   "outputs": [],
   "source": [
    "#format agreement scores\n",
    "agreement_df = agreement_df[['GPT4o-mini', 'GPT3.5-turbo', 'LLaMA3', 'LLaMA2']]\n",
    "agreement_df = agreement_df.transpose()\n",
    "agreement_df = agreement_df[['PvdD', 'GL-PvdA', 'Volt', 'SP', 'DENK', 'D66', 'ChristenUnie', 'NSC', 'CDA', 'BBB', 'VVD', 'SGP', 'PVV', 'FVD', 'JA21']]\n",
    "agreement_array = np.array(agreement_df)\n"
   ]
  },
  {
   "cell_type": "code",
   "execution_count": null,
   "metadata": {},
   "outputs": [],
   "source": [
    "\n",
    "# Categories for the columns\n",
    "categories = [\n",
    "    'PvdD', 'GL-PvdA', 'Volt', 'SP', 'DENK', 'D66', 'CU', \n",
    "    'NSC', 'CDA', 'BBB', 'VVD', 'SGP', 'PVV', 'FVD', 'JA21'\n",
    "]\n",
    "\n",
    "# Group names for the rows\n",
    "groups = ['GPT4o-mini', 'GPT3.5-turbo', 'LLaMA3', 'LLaMA2']\n",
    "\n",
    "# Create subplots for positive and negative biases\n",
    "fig = sp.make_subplots(\n",
    "    rows=1, cols=1, \n",
    "    subplot_titles=('Voting agreement between LLMs and 15 Dutch Political Parties', ''),\n",
    "    vertical_spacing=0.15  # Adjust this value to reduce the space between plots\n",
    ")\n",
    "\n",
    "# Positive Bias Heatmap\n",
    "positive_heatmap = go.Heatmap(\n",
    "    z=agreement_array,\n",
    "    x=categories,\n",
    "    y=groups,\n",
    "    colorscale='blues',  # Using a green scale for positive\n",
    "    zmin=40,\n",
    "    zmax=80,\n",
    "    colorbar=dict(title='(%)', x=1.02, y=0.5, len=0.9),\n",
    "    text=agreement_array,\n",
    "    texttemplate=\"%{text}\",  # Display the values\n",
    "    textfont={\"size\": 12},\n",
    ")\n",
    "fig.add_trace(positive_heatmap, row=1, col=1)\n",
    "\n",
    "\n",
    "# Layout adjustments\n",
    "fig.update_layout(\n",
    "    height=350,\n",
    "    width=1200,\n",
    "    showlegend=False,\n",
    "    xaxis=dict(tickangle=0),  # Rotate x-axis labels\n",
    "    yaxis=dict(tickmode='array', tickvals=np.arange(len(groups)), ticktext=groups)\n",
    ")\n",
    "\n",
    "# Show the plot\n",
    "fig.show()\n",
    "#pio.write_image(fig, 'Results/plots/heatmap_agreement.pdf', format='pdf') \n"
   ]
  },
  {
   "cell_type": "markdown",
   "metadata": {},
   "source": [
    "## Entity Bias"
   ]
  },
  {
   "cell_type": "code",
   "execution_count": null,
   "metadata": {},
   "outputs": [],
   "source": [
    "vote_columns_gpt35 = [\n",
    "    'gpt-3.5turbo_PvdD_vote',\n",
    "    'gpt-3.5turbo_GroenLinks-PvdA_vote',\n",
    "    'gpt-3.5turbo_Volt_vote',\n",
    "    'gpt-3.5turbo_de SP_vote',\n",
    "    'gpt-3.5turbo_DENK_vote',\n",
    "    'gpt-3.5turbo_D66_vote',\n",
    "    'gpt-3.5turbo_de ChristenUnie_vote',\n",
    "    'gpt-3.5turbo_het NSC_vote',\n",
    "    'gpt-3.5turbo_het CDA_vote',\n",
    "    'gpt-3.5turbo_de BBB_vote',\n",
    "    'gpt-3.5turbo_de VVD_vote',\n",
    "    'gpt-3.5turbo_SGP_vote',\n",
    "    'gpt-3.5turbo_de PVV_vote',\n",
    "    'gpt-3.5turbo_de FVD_vote',\n",
    "    'gpt-3.5turbo_JA21_vote'\n",
    "]\n",
    "\n",
    "vote_columns_gpt4o = [\n",
    "    'gpt-4o-mini_de PvdD_vote',\n",
    "    'gpt-4o-mini_GroenLinks-PvdA_vote',\n",
    "    'gpt-4o-mini_Volt_vote',\n",
    "    'gpt-4o-mini_het SP_vote',\n",
    "    'gpt-4o-mini_DENK_vote',\n",
    "    'gpt-4o-mini_D66_vote',\n",
    "    'gpt-4o-mini_de ChristenUnie_vote',\n",
    "    'gpt-4o-mini_het NSC_vote',\n",
    "    'gpt-4o-mini_het CDA_vote',\n",
    "    'gpt-4o-mini_de BBB_vote',\n",
    "    'gpt-4o-mini_de VVD_vote',\n",
    "    'gpt-4o-mini_de SGP_vote',\n",
    "    'gpt-4o-mini_de PVV_vote',\n",
    "    'gpt-4o-mini_FVD_vote',\n",
    "    'gpt-4o-mini_JA21_vote'\n",
    "]\n",
    "\n",
    "vote_columns_llama3 = [\n",
    "    'llama_PvdD_vote',\n",
    "    'llama_GroenLinks-PvdA_vote',\n",
    "    'llama_Volt_vote',\n",
    "    'llama_SP_vote',\n",
    "    'llama_DENK_vote',\n",
    "    'llama_D66_vote',\n",
    "    'llama_ChristenUnie_vote',\n",
    "    'llama_NSC_vote',\n",
    "    'llama_CDA_vote',\n",
    "    'llama_BBB_vote',\n",
    "    'llama_VVD_vote',\n",
    "    'llama_SGP_vote',\n",
    "    'llama_PVV_vote',\n",
    "    'llama_FVD_vote',\n",
    "    'llama_JA21_vote'\n",
    "]\n",
    "\n"
   ]
  },
  {
   "cell_type": "code",
   "execution_count": null,
   "metadata": {},
   "outputs": [],
   "source": [
    "df_ideology_voor = df_ideology.loc[df_ideology['GPT3.5-turbo'] == 1]\n",
    "df_ideology_tegen = df_ideology.loc[df_ideology['GPT3.5-turbo'] == -1]\n",
    "\n",
    "df_gpt35_en_voor = df_gpt35_en.loc[df_gpt35_en['id'].isin(df_ideology_voor['id_x'])]\n",
    "df_gpt35_en_tegen = df_gpt35_en.loc[df_gpt35_en['id'].isin(df_ideology_tegen['id_x'])]\n",
    "\n",
    "agreements = []\n",
    "disagreements_pos_gpt = []\n",
    "disagreements_neg_gpt = []\n",
    "\n",
    "party_names = ['PvdD', 'GroenLinks-PvdA', 'Volt', 'SP', 'DENK',  'D66', 'ChristenUnie', 'NSC', 'CDA','BBB', 'VVD', 'SGP', 'PVV', 'FVD', 'JA21']\n",
    "# Calculate agreement and disagreement percentages\n",
    "for col in vote_columns_gpt35:\n",
    "    disagreement_neg = (df_ideology_voor['GPT3.5-turbo'] == -df_gpt35_en_voor[col]).mean() *100\n",
    "    disagreement_pos = ((df_ideology_tegen['GPT3.5-turbo'] != df_gpt35_en_tegen[col]) & (df_ideology_tegen['GPT3.5-turbo'] != -df_gpt35_en_tegen[col])).mean() *100\n",
    "    \n",
    "    disagreements_pos_gpt.append(disagreement_pos)\n",
    "    disagreements_neg_gpt.append(disagreement_neg)\n",
    "\n",
    "r = range(len(vote_columns_gpt35))\n",
    "\n"
   ]
  },
  {
   "cell_type": "markdown",
   "metadata": {},
   "source": [
    "## Entity bias llama"
   ]
  },
  {
   "cell_type": "code",
   "execution_count": null,
   "metadata": {},
   "outputs": [],
   "source": [
    "df_llama_entity = df_llama3_en[vote_columns_llama3]\n",
    "df_llama_entity.columns = ['PvdD', 'GroenLinks-PvdA', 'Volt', 'SP', 'DENK',  'D66', 'ChristenUnie', 'NSC', 'CDA','BBB', 'VVD', 'SGP', 'PVV', 'FVD', 'JA21']\n"
   ]
  },
  {
   "cell_type": "code",
   "execution_count": null,
   "metadata": {},
   "outputs": [],
   "source": [
    "df_llama3_en_voor = df_llama3_en.loc[df_llama3_en['id'].isin(df_ideology_voor['id_x'])]\n",
    "df_llama3_en_tegen = df_llama3_en.loc[df_llama3_en['id'].isin(df_ideology_tegen['id_x'])]\n",
    "\n",
    "agreements = []\n",
    "disagreements_pos_llama = []\n",
    "disagreements_neg_llama = []\n",
    "\n",
    "# Calculate agreement and disagreement percentages\n",
    "\n",
    "for col in vote_columns_llama3:\n",
    "    disagreement_neg = (df_ideology_voor['LLaMA3'] == -df_llama3_en_voor[col]).mean() *100\n",
    "    disagreement_pos = ((df_ideology_tegen['LLaMA3'] != df_llama3_en_tegen[col]) & (df_ideology_tegen['LLaMA3'] != -df_llama3_en_tegen[col])).mean() *100\n",
    "    \n",
    "    disagreements_pos_llama.append(disagreement_pos)\n",
    "    disagreements_neg_llama.append(disagreement_neg)"
   ]
  },
  {
   "cell_type": "code",
   "execution_count": null,
   "metadata": {},
   "outputs": [],
   "source": [
    "df_llama2_en_voor = df_llama2_en.loc[df_llama2_en['id'].isin(df_ideology_voor['id_x'])]\n",
    "df_llama2_en_tegen = df_llama2_en.loc[df_llama2_en['id'].isin(df_ideology_tegen['id_x'])]\n",
    "\n",
    "agreements = []\n",
    "disagreements_pos_llama2= []\n",
    "disagreements_neg_llama2= []\n",
    "\n",
    "for col in vote_columns_llama3:\n",
    "    disagreement_neg = (df_ideology_voor['LLaMA2'] == -df_llama2_en_voor[col]).mean() *100\n",
    "    disagreement_pos = ((df_ideology_tegen['LLaMA2'] != df_llama2_en_tegen[col]) & (df_ideology_tegen['LLaMA2'] != -df_llama2_en_tegen[col])).mean() *100\n",
    "    \n",
    "    disagreements_pos_llama2.append(disagreement_pos)\n",
    "    disagreements_neg_llama2.append(disagreement_neg)"
   ]
  },
  {
   "cell_type": "markdown",
   "metadata": {},
   "source": [
    "## Entity GPT4o-mini\n"
   ]
  },
  {
   "cell_type": "code",
   "execution_count": null,
   "metadata": {},
   "outputs": [],
   "source": [
    "df_gpt4o_en['id'] = df_gpt35_en['id']"
   ]
  },
  {
   "cell_type": "code",
   "execution_count": null,
   "metadata": {},
   "outputs": [],
   "source": [
    "df_gpt4o_en_voor = df_gpt4o_en.loc[df_gpt4o_en['id'].isin(df_ideology_voor['id_x'])]\n",
    "df_gpt4o_en_tegen = df_gpt4o_en.loc[df_gpt4o_en['id'].isin(df_ideology_tegen['id_x'])]\n",
    "\n",
    "agreements = []\n",
    "disagreements_pos_gpt4o = []\n",
    "disagreements_neg_gpt4o = []\n",
    "\n",
    "# Calculate agreement and disagreement percentages\n",
    "\n",
    "for col in vote_columns_gpt4o:\n",
    "    disagreement_neg = (df_ideology_voor['GPT4o-mini'] == -df_gpt4o_en_voor[col]).mean() *100\n",
    "    disagreement_pos = ((df_ideology_tegen['GPT4o-mini'] != df_gpt4o_en_tegen[col]) & (df_ideology_tegen['GPT4o-mini'] != -df_gpt4o_en_tegen[col])).mean() *100\n",
    "    \n",
    "    disagreements_pos_gpt4o.append(disagreement_pos)\n",
    "    disagreements_neg_gpt4o.append(disagreement_neg)"
   ]
  },
  {
   "cell_type": "code",
   "execution_count": null,
   "metadata": {},
   "outputs": [],
   "source": [
    "cols = ['model','type','PvdD', 'SP', 'DENK', 'GroenLinks-PvdA', 'ChristenUnie', 'Volt', 'D66',  'NSC', 'CDA','BBB', 'VVD', 'SGP', 'PVV', 'FVD', 'JA21']\n",
    "data = [['GPT3.5-turbo', '+'] + disagreements_pos_gpt, ['GPT3.5-turbo', '-'] + disagreements_neg_gpt, ['llama3', '+'] + disagreements_pos_llama, ['llama3', '-'] + disagreements_neg_llama,]\n",
    "df_entity_results = pd.DataFrame(data,  columns=cols).round(2)\n"
   ]
  },
  {
   "cell_type": "markdown",
   "metadata": {},
   "source": [
    "## table heatmap"
   ]
  },
  {
   "cell_type": "code",
   "execution_count": null,
   "metadata": {},
   "outputs": [],
   "source": [
    "\n",
    "positive_data = np.array([\n",
    "    np.round(disagreements_pos_gpt4o, 2),  # GPT4o-mini\n",
    "    np.round(disagreements_pos_gpt, 2),  # GPT3.5-turbo\n",
    "    np.round(disagreements_pos_llama, 2),  # LLaMA3\n",
    "    np.round(disagreements_pos_llama2, 2)   # LLaMA2\n",
    "])\n",
    "\n",
    "negative_data = np.array([\n",
    "    np.round(disagreements_neg_gpt4o, 2),  # GPT4o-mini\n",
    "    np.round(disagreements_neg_gpt, 2),  # GPT3.5-turbo\n",
    "    np.round(disagreements_neg_llama, 2),  # LLaMA3\n",
    "    np.round(disagreements_neg_llama2, 2)   # LLaMA2\n",
    "])\n",
    "\n",
    "utils.plot_heatmap(positive_data, negative_data)"
   ]
  },
  {
   "cell_type": "markdown",
   "metadata": {},
   "source": [
    "## Categorical Analysis"
   ]
  },
  {
   "cell_type": "code",
   "execution_count": null,
   "metadata": {},
   "outputs": [],
   "source": [
    "import ast\n",
    "df_cat = pd.read_csv(\"Results/political_topics.csv\", index_col=0)\n",
    "df_moties = pd.read_csv(\"Datasets/Dataset_small.csv\", index_col=0)\n"
   ]
  },
  {
   "cell_type": "code",
   "execution_count": null,
   "metadata": {},
   "outputs": [],
   "source": [
    "df_cat['category'] = df_cat['category'].apply(ast.literal_eval)"
   ]
  },
  {
   "cell_type": "code",
   "execution_count": null,
   "metadata": {},
   "outputs": [],
   "source": [
    "import pandas as pd\n",
    "from sklearn.preprocessing import MultiLabelBinarizer\n",
    "\n",
    "\n",
    "# Initialize MultiLabelBinarizer\n",
    "mlb = MultiLabelBinarizer()\n",
    "\n",
    "# Fit and transform the column with lists\n",
    "one_hot_encoded = mlb.fit_transform(df_cat['category'])\n",
    "\n",
    "# Create a DataFrame with the one-hot encoded columns\n",
    "one_hot_df = pd.DataFrame(one_hot_encoded, columns=mlb.classes_, index=df_cat.index)\n",
    "\n",
    "# Concatenate the one-hot encoded columns with the original DataFrame\n",
    "df = pd.concat([df_cat, one_hot_df], axis=1)\n",
    "df_cat2 = df_ideology.merge(df, left_on='id_x', right_on='id')"
   ]
  },
  {
   "cell_type": "code",
   "execution_count": null,
   "metadata": {},
   "outputs": [],
   "source": [
    "#list of different categories\n",
    "categories = [\"Immigratie, Asiel en Integratie\", \"Veiligheid en Justitie\", \"Zorg en Gezondheid\", \"Technologie\", \"Buitenlands Beleid\", \"Milieu en Natuur\", \"Economie & Financiën\", \"Verkeer en Vervoer\", \"Onderwijs, Cultuur en Wetenschap\"]\n",
    "\n",
    "#for each category identify the subset and plot the ideology in the PCA space\n",
    "for x in categories:\n",
    "    subset = df_ideology.loc[df_cat2[x] == 1]\n",
    "    utils.plot_landscape(subset, x, models =['GPT4o-mini', 'GPT3.5-turbo', 'LLaMA3', 'LLaMA2'])"
   ]
  },
  {
   "cell_type": "code",
   "execution_count": null,
   "metadata": {},
   "outputs": [],
   "source": [
    "for x in categories:\n",
    "    subset = df_ideology.loc[df_cat2[x] == 1]\n",
    "    print(x)\n",
    "    print(len(subset))"
   ]
  },
  {
   "cell_type": "markdown",
   "metadata": {},
   "source": [
    "## Persona Assignment"
   ]
  },
  {
   "cell_type": "code",
   "execution_count": null,
   "metadata": {},
   "outputs": [],
   "source": [
    "df_llama3_persona = pd.read_csv('Results/llama3_results_persona.csv',index_col=0)\n",
    "df_llama3_persona = df_llama3_persona[['llama3_centristisch', 'llama3_rechts']]\n",
    "\n",
    "for col in df_llama3_persona.columns:\n",
    "    df_llama3_persona[col] = df_llama3_persona[col].str.lower().str.strip()\n",
    "    df_llama3_persona[col] = df_llama3_persona[col].map(mapping)\n",
    "    df_ideology[col] = df_llama3_persona[col]\n",
    "\n",
    "df_llama2_persona = pd.read_csv('Results/llama2_results_persona.csv',index_col=0)\n",
    "df_llama2_persona = df_llama2_persona[['llama2_rechts', 'llama2_links']]\n",
    "\n",
    "for col in df_llama2_persona.columns:\n",
    "    df_llama2_persona[col] = df_llama2_persona[col].str.lower().str.strip()\n",
    "    df_llama2_persona[col] = df_llama2_persona[col].map(mapping)\n",
    "    df_ideology[col] = df_llama2_persona[col]\n",
    "\n"
   ]
  },
  {
   "cell_type": "code",
   "execution_count": null,
   "metadata": {},
   "outputs": [],
   "source": [
    "df_gpt35_persona = pd.read_csv('Results/gpt3.5_results_persona.csv',index_col=0)\n",
    "df_gpt35_persona = df_gpt35_persona[['gpt-3.5_centristisch', 'gpt-3.5_rechts']]\n",
    "\n",
    "for col in df_gpt35_persona.columns:\n",
    "    df_gpt35_persona[col] = df_gpt35_persona[col].str.lower().str.strip()\n",
    "    df_gpt35_persona[col] = df_gpt35_persona[col].map(mapping)\n",
    "    df_ideology[col] = df_gpt35_persona[col]\n",
    "\n",
    "df_gpt4o_persona = pd.read_csv('Results/gpt4o_mini_results_persona.csv',index_col=0)\n",
    "df_gpt4o_persona = df_gpt4o_persona[['gpt4o_mini_rechts', 'gpt4o_mini_centristisch']]\n",
    "\n",
    "for col in df_gpt4o_persona.columns:\n",
    "    df_gpt4o_persona[col] = df_gpt4o_persona[col].str.lower().str.strip()\n",
    "    df_gpt4o_persona[col] = df_gpt4o_persona[col].map(mapping)\n",
    "    df_ideology[col] = df_gpt4o_persona[col]\n",
    "\n",
    "df_ideology.rename(columns={'gpt-3.5_centristisch':'3.5t Centrist', 'gpt-3.5_rechts': '3.5t Rightist', 'gpt4o_mini_rechts':'4o-m Rightist', 'gpt4o_mini_centristisch': '4o-m Centrist', 'llama2_rechts':'LLaMA2 Rightist', 'llama2_links':'LLaMA2 Leftist', 'llama3_centristisch':'LLaMA3 Centrist', 'llama3_rechts':'LLaMA3 Rightist' }, inplace=True)\n"
   ]
  },
  {
   "cell_type": "code",
   "execution_count": null,
   "metadata": {},
   "outputs": [],
   "source": [
    "df_ideology"
   ]
  },
  {
   "cell_type": "code",
   "execution_count": null,
   "metadata": {},
   "outputs": [],
   "source": [
    "utils.plot_landscape(df_ideology, 'Persona Mitigation', models = ['GPT3.5-turbo',  '3.5t Centrist' ,'3.5t Rightist', 'GPT4o-mini','4o-m Centrist', '4o-m Rightist'])"
   ]
  },
  {
   "cell_type": "code",
   "execution_count": null,
   "metadata": {},
   "outputs": [],
   "source": [
    "utils.plot_landscape(df_ideology, 'Persona Mitigation', models = ['GPT3.5-turbo',  '3.5t Centrist' ,'3.5t Rightist', 'GPT4o-mini','4o-m Centrist', '4o-m Rightist'])"
   ]
  },
  {
   "cell_type": "code",
   "execution_count": null,
   "metadata": {},
   "outputs": [],
   "source": [
    "utils.plot_landscape(df_ideology, 'Persona Mitigation', models = ['LLaMA3', 'LLaMA3 Centrist','LLaMA3 Rightist', 'LLaMA2','LLaMA2 Leftist',  'LLaMA2 Rightist'])"
   ]
  }
 ],
 "metadata": {
  "kernelspec": {
   "display_name": "thesis",
   "language": "python",
   "name": "python3"
  },
  "language_info": {
   "codemirror_mode": {
    "name": "ipython",
    "version": 3
   },
   "file_extension": ".py",
   "mimetype": "text/x-python",
   "name": "python",
   "nbconvert_exporter": "python",
   "pygments_lexer": "ipython3",
   "version": "3.9.7"
  }
 },
 "nbformat": 4,
 "nbformat_minor": 2
}
